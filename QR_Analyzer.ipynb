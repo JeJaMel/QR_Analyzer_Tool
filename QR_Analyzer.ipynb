{
  "cells": [
    {
      "cell_type": "markdown",
      "metadata": {
        "id": "MG61DZDmQSxJ"
      },
      "source": [
        "##Import drive"
      ]
    },
    {
      "cell_type": "code",
      "execution_count": 1,
      "metadata": {
        "id": "QEmgcq7vPo-C"
      },
      "outputs": [],
      "source": [
        "from google.colab import drive"
      ]
    },
    {
      "cell_type": "markdown",
      "source": [
        "#Install dependencies"
      ],
      "metadata": {
        "id": "_2GA7bjDcHw3"
      }
    },
    {
      "cell_type": "code",
      "source": [
        "!pip install pyqrcode pyzbar pillow streamlit pyngrok pypng"
      ],
      "metadata": {
        "id": "3Ck4Qc6SkJHE"
      },
      "execution_count": null,
      "outputs": []
    },
    {
      "cell_type": "code",
      "source": [
        "drive.mount('/content/drive')"
      ],
      "metadata": {
        "id": "qhpkLtiEciqg"
      },
      "execution_count": null,
      "outputs": []
    },
    {
      "cell_type": "markdown",
      "source": [
        "#Run main.py with ngrok"
      ],
      "metadata": {
        "id": "VrdB_JiR6ulF"
      }
    },
    {
      "cell_type": "code",
      "source": [
        "try:\n",
        "    from pyzbar.pyzbar import decode\n",
        "    print(\"pyzbar imported successfully (ZBar library likely already installed).\")\n",
        "except ImportError:\n",
        "    print(\"ZBar library not found. Installing...\")\n",
        "    !apt-get install -y zbar-tools\n",
        "    import os\n",
        "    os.kill(os.getpid(), 9)\n",
        "\n",
        "from pyngrok import ngrok\n",
        "\n",
        "ngrok.set_auth_token(\"YOUR_NGROK_AUTHTOKEN\")\n",
        "\n",
        "tunnel = ngrok.connect(addr=\"8501\", proto=\"http\", bind_tls=True)\n",
        "\n",
        "public_url = tunnel.public_url\n",
        "print(f\"Public URL: {public_url}\")\n",
        "\n",
        "!streamlit run --server.port 8501 /content/drive/MyDrive/QR_script/main.py &"
      ],
      "metadata": {
        "id": "YrS3xaWqcINa"
      },
      "execution_count": null,
      "outputs": []
    }
  ],
  "metadata": {
    "colab": {
      "provenance": []
    },
    "kernelspec": {
      "display_name": "Python 3",
      "name": "python3"
    },
    "language_info": {
      "name": "python"
    }
  },
  "nbformat": 4,
  "nbformat_minor": 0
}