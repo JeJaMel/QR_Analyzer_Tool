{
  "cells": [
    {
      "cell_type": "markdown",
      "metadata": {
        "id": "MG61DZDmQSxJ"
      },
      "source": [
        "##Import drive"
      ]
    },
    {
      "cell_type": "code",
      "execution_count": 1,
      "metadata": {
        "id": "QEmgcq7vPo-C"
      },
      "outputs": [],
      "source": [
        "from google.colab import drive"
      ]
    },
    {
      "cell_type": "markdown",
      "source": [
        "#Install dependencies"
      ],
      "metadata": {
        "id": "_2GA7bjDcHw3"
      }
    },
    {
      "cell_type": "code",
      "source": [
        "!pip install pyqrcode pyzbar pillow streamlit pyngrok pypng"
      ],
      "metadata": {
        "id": "3Ck4Qc6SkJHE"
      },
      "execution_count": null,
      "outputs": []
    },
    {
      "cell_type": "code",
      "source": [
        "drive.mount('/content/drive')"
      ],
      "metadata": {
        "id": "qhpkLtiEciqg"
      },
      "execution_count": null,
      "outputs": []
    },
    {
      "cell_type": "markdown",
      "source": [
        "#Run main.py with ngrok"
      ],
      "metadata": {
        "id": "VrdB_JiR6ulF"
      }
    },
    {
      "cell_type": "code",
      "source": [
        "try:\n",
        "    from pyzbar.pyzbar import decode\n",
        "    print(\"pyzbar imported successfully (ZBar library likely already installed).\")\n",
        "except ImportError:\n",
        "    print(\"ZBar library not found. Installing...\")\n",
        "    !apt-get install -y zbar-tools\n",
        "    import os\n",
        "    os.kill(os.getpid(), 9)\n",
        "\n",
        "from pyngrok import ngrok\n",
        "\n",
        "ngrok.set_auth_token(\"YOUR_NGROK_AUTHTOKEN\")\n",
        "\n",
        "tunnel = ngrok.connect(addr=\"8501\", proto=\"http\", bind_tls=True)\n",
        "\n",
        "public_url = tunnel.public_url\n",
        "print(f\"Public URL: {public_url}\")\n",
        "\n",
        "!streamlit run --server.port 8501 /content/drive/MyDrive/QR_script/main.py &"
      ],
      "metadata": {
        "colab": {
          "base_uri": "https://localhost:8080/"
        },
        "id": "YrS3xaWqcINa",
        "outputId": "ed651fc0-f923-4c5c-e4a6-acff2089ad20"
      },
      "execution_count": 8,
      "outputs": [
        {
          "output_type": "stream",
          "name": "stdout",
          "text": [
            "pyzbar imported successfully (ZBar library likely already installed).\n",
            "Public URL: https://0ec8-34-125-169-50.ngrok-free.app\n",
            "\n",
            "Collecting usage statistics. To deactivate, set browser.gatherUsageStats to false.\n",
            "\u001b[0m\n",
            "\u001b[0m\n",
            "\u001b[34m\u001b[1m  You can now view your Streamlit app in your browser.\u001b[0m\n",
            "\u001b[0m\n",
            "\u001b[34m  Local URL: \u001b[0m\u001b[1mhttp://localhost:8501\u001b[0m\n",
            "\u001b[34m  Network URL: \u001b[0m\u001b[1mhttp://172.28.0.12:8501\u001b[0m\n",
            "\u001b[34m  External URL: \u001b[0m\u001b[1mhttp://34.125.169.50:8501\u001b[0m\n",
            "\u001b[0m\n",
            "\u001b[34m  Stopping...\u001b[0m\n"
          ]
        }
      ]
    }
  ],
  "metadata": {
    "colab": {
      "provenance": []
    },
    "kernelspec": {
      "display_name": "Python 3",
      "name": "python3"
    },
    "language_info": {
      "name": "python"
    }
  },
  "nbformat": 4,
  "nbformat_minor": 0
}